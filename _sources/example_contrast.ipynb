{
 "cells": [
  {
   "cell_type": "markdown",
   "metadata": {},
   "source": [
    "# Implementing and using a new *contrast* with `pygosa`"
   ]
  },
  {
   "cell_type": "markdown",
   "metadata": {},
   "source": [
    "The benefit ot the module is to make easy the definition a new contrast class (see for example [New sensitivity analysis subordinated to a contrast](http://www.math.univ-toulouse.fr/~klein/Gosa.pdf)\n",
    "\n",
    "Implementing such contrast and apply it within the `pygosa` module relies on:\n",
    "\n",
    "  - The definintion of a new class that inherites from `ContrastSensitivityClass`;\n",
    "  - The definintion of the internal `contrast` method as function of `y` and `t`;\n",
    "  - The definintion of the `get_risk_value` method as function that takes into account a data sample and returns the \n",
    "    quantity of interest;\n",
    "\n",
    "Of course, the underlying contrast should be associated to the quantity of interest defined in `get_rist_value`. As an example, we illustrate how to define the `mean contrast` class in less than 10 lines and applying the contrast to compute the sensitivity factors:"
   ]
  },
  {
   "cell_type": "code",
   "execution_count": 1,
   "metadata": {},
   "outputs": [
    {
     "name": "stdout",
     "output_type": "stream",
     "text": [
      "Populating the interactive namespace from numpy and matplotlib\n"
     ]
    }
   ],
   "source": [
    "import openturns as ot\n",
    "import numpy as np\n",
    "import pygosa\n",
    "%pylab inline"
   ]
  },
  {
   "cell_type": "markdown",
   "metadata": {},
   "source": [
    "We define `Sobol` use-case, which is very common in case of sensitivity analysis:"
   ]
  },
  {
   "cell_type": "code",
   "execution_count": 2,
   "metadata": {},
   "outputs": [],
   "source": [
    "model = ot.SymbolicFunction([\"x1\",\"x2\",\"x3\"], [\"sin(x1) + 7*sin(x2)^2 + 0.1*(x3^4)*sin(x1)\"])\n",
    "dist = ot.ComposedDistribution( 3 * [ot.Uniform(-np.pi, np.pi)] )"
   ]
  },
  {
   "cell_type": "markdown",
   "metadata": {},
   "source": [
    "## Design of experiment\n",
    "\n",
    "We define the experiment `design`. The benefits of using a `crude` Monte-Carlo approach is the potential use of several contrasts."
   ]
  },
  {
   "cell_type": "code",
   "execution_count": 3,
   "metadata": {},
   "outputs": [],
   "source": [
    "mcsp = pygosa.SensitivityDesign(dist=dist, model=model, size=5000)"
   ]
  },
  {
   "cell_type": "markdown",
   "metadata": {},
   "source": [
    "## Moment of second order \n",
    "\n",
    "Hereafter we define a new contrast class that helps evaluating sensitivities of $\\mathbb{E}(Y^2)$. The contrast class should :\n",
    "\n",
    " - Inherits from `ContrastSensitivityAnalysis`\n",
    " - Define the `contrast` method with signature `contrast(self, y,t, **kwargs)`. It should have `kwargs` as arguments even if not used\n",
    " - Define the `get_risk_value` method with signature `get_risk_value(self, data, **kwargs)`. Same remark concerning **kwargs**\n"
   ]
  },
  {
   "cell_type": "code",
   "execution_count": 4,
   "metadata": {},
   "outputs": [],
   "source": [
    "class Moment2SA(pygosa.ContrastSensitivityAnalysis):\n",
    "    def __init__(self, design):\n",
    "        super(Moment2SA, self).__init__(design)\n",
    "\n",
    "    # contrast method\n",
    "    def contrast(self, y,t, **kwargs):\n",
    "        \"\"\"\n",
    "        Contrast for moment of second order\n",
    "        \"\"\"\n",
    "        return (y*y-t)*(y*y-t)\n",
    "\n",
    "    # Define risk function (second order moment)\n",
    "    # moments2 = var + mean * mean\n",
    "    def get_risk_value(self, data, **kwargs):\n",
    "        mu = ot.Sample(data).computeMean()\n",
    "        var =  ot.Sample(data).computeVariance()\n",
    "        return np.array(mu) * np.array(mu) + np.array(var)\n"
   ]
  },
  {
   "cell_type": "markdown",
   "metadata": {},
   "source": [
    "The previous class is a contrast similar to those provided by the module. We can thus easily apply it using the previous design:"
   ]
  },
  {
   "cell_type": "code",
   "execution_count": 5,
   "metadata": {},
   "outputs": [
    {
     "name": "stderr",
     "output_type": "stream",
     "text": [
      "/usr/lib/python2.7/dist-packages/matplotlib/figure.py:402: UserWarning: matplotlib is currently using a non-GUI backend, so cannot show the figure\n",
      "  \"matplotlib is currently using a non-GUI backend, \"\n"
     ]
    },
    {
     "data": {
      "image/png": "[encoded data removed]",
      "text/plain": [
       "<matplotlib.figure.Figure at 0x7f964b8480d0>"
      ]
     },
     "metadata": {},
     "output_type": "display_data"
    }
   ],
   "source": [
    "sam = Moment2SA(mcsp)\n",
    "factors_m = sam.compute_factors()\n",
    "fig, ax = sam.boxplot()"
   ]
  },
  {
   "cell_type": "code",
   "execution_count": 6,
   "metadata": {},
   "outputs": [
    {
     "name": "stdout",
     "output_type": "stream",
     "text": [
      "[[ 0.21166235  0.28014466  0.12583268]]\n"
     ]
    }
   ],
   "source": [
    "print(factors_m)"
   ]
  }
 ],
 "metadata": {
  "kernelspec": {
   "display_name": "Python 2",
   "language": "python",
   "name": "python2"
  },
  "language_info": {
   "codemirror_mode": {
    "name": "ipython",
    "version": 2
   },
   "file_extension": ".py",
   "mimetype": "text/x-python",
   "name": "python",
   "nbconvert_exporter": "python",
   "pygments_lexer": "ipython2",
   "version": "2.7.13"
  }
 },
 "nbformat": 4,
 "nbformat_minor": 2
}
